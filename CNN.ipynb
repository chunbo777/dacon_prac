{
  "nbformat": 4,
  "nbformat_minor": 0,
  "metadata": {
    "colab": {
      "name": "CNN.ipynb",
      "provenance": [],
      "authorship_tag": "ABX9TyN/fRc7X1FVQ4lcHdLibVFm",
      "include_colab_link": true
    },
    "kernelspec": {
      "name": "python3",
      "display_name": "Python 3"
    },
    "language_info": {
      "name": "python"
    }
  },
  "cells": [
    {
      "cell_type": "markdown",
      "metadata": {
        "id": "view-in-github",
        "colab_type": "text"
      },
      "source": [
        "<a href=\"https://colab.research.google.com/github/chunbo777/dacon_prac/blob/main/CNN.ipynb\" target=\"_parent\"><img src=\"https://colab.research.google.com/assets/colab-badge.svg\" alt=\"Open In Colab\"/></a>"
      ]
    },
    {
      "cell_type": "code",
      "execution_count": null,
      "metadata": {
        "colab": {
          "base_uri": "https://localhost:8080/"
        },
        "id": "P3CbX3XnAF2Q",
        "outputId": "7dd7a755-d028-438b-d96e-13093117392e"
      },
      "outputs": [
        {
          "output_type": "stream",
          "name": "stdout",
          "text": [
            "fatal: destination path 'deep-learning-from-scratch' already exists and is not an empty directory.\n"
          ]
        }
      ],
      "source": [
        "\n",
        "!git clone https://github.com/chunbo777/deep-learning-from-scratch"
      ]
    },
    {
      "cell_type": "code",
      "source": [
        "import sys\n",
        "sys.path.insert(0, \"/content/deep-learning-from-scratch\")\n",
        "from common.util import im2col\n",
        "\n"
      ],
      "metadata": {
        "id": "dUiRe2-KANt-"
      },
      "execution_count": null,
      "outputs": []
    },
    {
      "cell_type": "code",
      "source": [
        "import numpy as np"
      ],
      "metadata": {
        "id": "QFLYYq55VNNX"
      },
      "execution_count": null,
      "outputs": []
    },
    {
      "cell_type": "code",
      "source": [
        "x1= np.random.rand(1,3,7,7)"
      ],
      "metadata": {
        "id": "fZMfVjTKO-Yd"
      },
      "execution_count": null,
      "outputs": []
    },
    {
      "cell_type": "code",
      "source": [
        "x1"
      ],
      "metadata": {
        "colab": {
          "base_uri": "https://localhost:8080/"
        },
        "id": "e_FO5HvmVThx",
        "outputId": "62de5658-bba9-4827-c669-afd3a553e75e"
      },
      "execution_count": null,
      "outputs": [
        {
          "output_type": "execute_result",
          "data": {
            "text/plain": [
              "array([[[[0.78876353, 0.92261197, 0.50132567, 0.6058759 , 0.78779392,\n",
              "          0.06958523, 0.60460621],\n",
              "         [0.01936705, 0.13939375, 0.53175322, 0.68754078, 0.23754161,\n",
              "          0.45106529, 0.1356445 ],\n",
              "         [0.59655995, 0.65115982, 0.72767843, 0.85234067, 0.52833512,\n",
              "          0.0981767 , 0.45166677],\n",
              "         [0.44014486, 0.44810158, 0.79004692, 0.60239047, 0.54595107,\n",
              "          0.78149435, 0.85564821],\n",
              "         [0.10510811, 0.16368466, 0.39815677, 0.51708389, 0.71111921,\n",
              "          0.35608862, 0.73065819],\n",
              "         [0.36198063, 0.38257353, 0.15511632, 0.76413462, 0.54516488,\n",
              "          0.64958072, 0.05417897],\n",
              "         [0.34897044, 0.42899611, 0.27029773, 0.1114404 , 0.95430259,\n",
              "          0.36595314, 0.81959748]],\n",
              "\n",
              "        [[0.51348546, 0.73728077, 0.31380008, 0.62039746, 0.72558459,\n",
              "          0.57220069, 0.85213679],\n",
              "         [0.04663312, 0.77642579, 0.42425023, 0.10772509, 0.15422622,\n",
              "          0.23879265, 0.3963137 ],\n",
              "         [0.78968083, 0.30171326, 0.29162141, 0.36797144, 0.6086917 ,\n",
              "          0.42900695, 0.59185202],\n",
              "         [0.26320811, 0.36334222, 0.23133839, 0.88663142, 0.92095738,\n",
              "          0.88294753, 0.78596761],\n",
              "         [0.66924777, 0.71180074, 0.0945349 , 0.1776725 , 0.82239209,\n",
              "          0.74580945, 0.41122015],\n",
              "         [0.60307773, 0.73297632, 0.09379949, 0.67130083, 0.09424905,\n",
              "          0.60953922, 0.23571681],\n",
              "         [0.25613997, 0.92089234, 0.38833762, 0.5969277 , 0.35417273,\n",
              "          0.60022078, 0.55520959]],\n",
              "\n",
              "        [[0.88023248, 0.36123596, 0.57824365, 0.23931281, 0.40539004,\n",
              "          0.66940889, 0.40262332],\n",
              "         [0.94424223, 0.16369816, 0.16180399, 0.66625416, 0.00146251,\n",
              "          0.35819448, 0.66668717],\n",
              "         [0.25953905, 0.90597147, 0.38197145, 0.4599437 , 0.60006365,\n",
              "          0.59979563, 0.4012888 ],\n",
              "         [0.01216685, 0.9811739 , 0.11003908, 0.73317506, 0.06367218,\n",
              "          0.6582254 , 0.8510442 ],\n",
              "         [0.96504031, 0.13402021, 0.67919469, 0.15820524, 0.98981471,\n",
              "          0.09594289, 0.20995196],\n",
              "         [0.7519147 , 0.79450396, 0.44456823, 0.01988623, 0.15971043,\n",
              "          0.53877866, 0.65861821],\n",
              "         [0.04652104, 0.51859788, 0.4465303 , 0.87011825, 0.38250949,\n",
              "          0.6704809 , 0.18995961]]]])"
            ]
          },
          "metadata": {},
          "execution_count": 15
        }
      ]
    },
    {
      "cell_type": "code",
      "source": [
        "col = im2col(x1, 5, 5, stride = 1, pad = 0)"
      ],
      "metadata": {
        "id": "BHQRx5knVgHA"
      },
      "execution_count": null,
      "outputs": []
    },
    {
      "cell_type": "code",
      "source": [
        "print(col.shape)"
      ],
      "metadata": {
        "colab": {
          "base_uri": "https://localhost:8080/"
        },
        "id": "DE6tmrTxVqxV",
        "outputId": "3cd68018-2b12-4be1-e05f-be1160d3bb08"
      },
      "execution_count": null,
      "outputs": [
        {
          "output_type": "stream",
          "name": "stdout",
          "text": [
            "(9, 75)\n"
          ]
        }
      ]
    },
    {
      "cell_type": "code",
      "source": [
        "class Convolution:\n",
        "    def __init__(self, W, b, stride = 1, pad = 0):\n",
        "        self.W = W\n",
        "        self.b = b\n",
        "        self.stride = stride\n",
        "        self.pad = pad\n",
        "    \n",
        "    def forward(self, x):\n",
        "        FN, C, FH, FW = self.W.shape\n",
        "        N, C, H, W = self.x.shape\n",
        "        OH = int(1 + (H + 2*self.pad - FH)/self.stride)\n",
        "        OW = int(1 + (W + 2*self.pad - FW)/self.stride)\n",
        "\n",
        "        col = im2col(x, FH, FW, self.stride, self.pad) #FW x FW * 채널수가 전체 개수와 같게 매트릭스 변형\n",
        "\n",
        "        col_W = self.W.reshape(FN, -1)\n",
        "        out = np.dot(col, col_W.T) +self.b\n",
        "        out = out.reshape(N, OH, OW, -1).transpos(0,3,1,2)\n",
        "        return out"
      ],
      "metadata": {
        "id": "IUpA5cXWJv2y"
      },
      "execution_count": null,
      "outputs": []
    },
    {
      "cell_type": "markdown",
      "source": [
        "# 풀링계층 구현하기"
      ],
      "metadata": {
        "id": "-FpK5qOZDQc0"
      }
    },
    {
      "cell_type": "code",
      "source": [
        "class Pooling:\n",
        "    def __init__(self, pool_h, pool_w, stride = 1, pad =0):\n",
        "        self.pool_h = pool_h\n",
        "        self.pool_w = pool_w\n",
        "        self.stride = stride\n",
        "        self.pad = pad\n",
        "        \n",
        "    def forward(self, x):\n",
        "        N, C, H, W = x.shape\n",
        "        OH = int(1 + (H+2*self.pad - self.pool_h)/self.stride)\n",
        "        OW = int(1 + (W+2*self.pad - self.pool_w)/self.stride)\n",
        "\n",
        "        col = im2col(x, pool_h, pool_w, self.stride, self.pad)\n",
        "        col = col.reshape(-1, pool_h*pool_w)\n",
        "\n",
        "        maxpooled =  max(col, axis = 1)\n",
        "\n",
        "        out = maxpooled.reshape(N, OH, OW, C).transpose(0,3,1,2)\n",
        "\n",
        "        return out\n",
        "        "
      ],
      "metadata": {
        "id": "r3boRTDz86iN"
      },
      "execution_count": null,
      "outputs": []
    },
    {
      "cell_type": "code",
      "source": [
        "class SimpleConvNet:\n",
        "    def __init__(self, input_dim = (1, 28, 28)\n",
        "                        , conv_params = {\"filter_num\": 30, \"filter_size\" : 5, \"pad\" : 0, \"stride\" : 1 }\n",
        "                        , hidden_size= 100, output_size =10, weight_std = 0.01):\n",
        "        filter_num = conv_params[\"filter_num\"]\n",
        "        filter_size = conv_params[\"filter_size\"]\n",
        "        pad = conv_params[\"pad\"]\n",
        "        stride =conv_params[\"stride\"]\n",
        "\n",
        "        input_size = imput_dim[1]\n",
        "        conv_output_size = int(1 + (input_size + 2*pad - filter_size)/stride)\n",
        "        pool_output_size = (1, conv_output_size/2 * conv_output_size/2)\n",
        "\n",
        "        params = {}\n",
        "\n",
        "        params[\"W1\"] = weight_std * np.random.randn(filter_num, input_dim[0], filter_size, filter_size)\n",
        "        params[\"b1\"] = np.zeros(filter_num)\n",
        "        params[\"W2\"] = weight_std * np.random.randn(pool_output_size, hidden_size)\n",
        "        params[\"b2\"] = np.zeros(hidden_size)\n",
        "        params[\"W3\"] = weight_std * np.random.randn(hidden_size, output_size)\n",
        "        params[\"b3\"] = np.zeros(output_size)\n",
        "    "
      ],
      "metadata": {
        "id": "W71KuQDhLnwB"
      },
      "execution_count": 24,
      "outputs": []
    },
    {
      "cell_type": "code",
      "source": [
        ""
      ],
      "metadata": {
        "id": "Xqx89Uoplkvd"
      },
      "execution_count": null,
      "outputs": []
    }
  ]
}