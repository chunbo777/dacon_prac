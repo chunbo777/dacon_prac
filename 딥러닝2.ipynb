{
  "nbformat": 4,
  "nbformat_minor": 0,
  "metadata": {
    "colab": {
      "name": "딥러닝2.ipynb",
      "provenance": [],
      "authorship_tag": "ABX9TyPVRevRZERNMVl662w8ZYuX",
      "include_colab_link": true
    },
    "kernelspec": {
      "name": "python3",
      "display_name": "Python 3"
    },
    "language_info": {
      "name": "python"
    }
  },
  "cells": [
    {
      "cell_type": "markdown",
      "metadata": {
        "id": "view-in-github",
        "colab_type": "text"
      },
      "source": [
        "<a href=\"https://colab.research.google.com/github/chunbo777/dacon_prac/blob/main/%EB%94%A5%EB%9F%AC%EB%8B%9D2.ipynb\" target=\"_parent\"><img src=\"https://colab.research.google.com/assets/colab-badge.svg\" alt=\"Open In Colab\"/></a>"
      ]
    },
    {
      "cell_type": "code",
      "source": [
        "\n",
        "!git clone https://github.com/chunbo777/deep-learning-from-scratch"
      ],
      "metadata": {
        "colab": {
          "base_uri": "https://localhost:8080/"
        },
        "id": "zKBPtemOnQxg",
        "outputId": "253a2d2f-536a-44a2-8320-1f759c0523ba"
      },
      "execution_count": 2,
      "outputs": [
        {
          "output_type": "stream",
          "name": "stdout",
          "text": [
            "Cloning into 'deep-learning-from-scratch'...\n",
            "remote: Enumerating objects: 826, done.\u001b[K\n",
            "remote: Total 826 (delta 0), reused 0 (delta 0), pack-reused 826\u001b[K\n",
            "Receiving objects: 100% (826/826), 52.21 MiB | 37.62 MiB/s, done.\n",
            "Resolving deltas: 100% (477/477), done.\n"
          ]
        }
      ]
    },
    {
      "cell_type": "code",
      "source": [
        "!git clone https://github.com/chunbo777/deep-learning-from-scratch-2"
      ],
      "metadata": {
        "colab": {
          "base_uri": "https://localhost:8080/"
        },
        "id": "7S40p15wna3Q",
        "outputId": "17a3454f-fd28-49e7-8772-4cc9ac91d1a9"
      },
      "execution_count": 3,
      "outputs": [
        {
          "output_type": "stream",
          "name": "stdout",
          "text": [
            "Cloning into 'deep-learning-from-scratch-2'...\n",
            "remote: Enumerating objects: 606, done.\u001b[K\n",
            "remote: Counting objects: 100% (8/8), done.\u001b[K\n",
            "remote: Compressing objects: 100% (8/8), done.\u001b[K\n",
            "remote: Total 606 (delta 1), reused 5 (delta 0), pack-reused 598\u001b[K\n",
            "Receiving objects: 100% (606/606), 29.82 MiB | 34.19 MiB/s, done.\n",
            "Resolving deltas: 100% (361/361), done.\n"
          ]
        }
      ]
    },
    {
      "cell_type": "code",
      "source": [
        "import numpy as np"
      ],
      "metadata": {
        "id": "ewGPD2hItbQz"
      },
      "execution_count": 4,
      "outputs": []
    },
    {
      "cell_type": "code",
      "execution_count": 5,
      "metadata": {
        "id": "eUT_MpxWQ7c4",
        "colab": {
          "base_uri": "https://localhost:8080/"
        },
        "outputId": "0221ddfd-6cd5-40a2-a2c2-7a369b295221"
      },
      "outputs": [
        {
          "output_type": "stream",
          "name": "stdout",
          "text": [
            " goodebye: 0.7071067751510136\n",
            " I: 0.7071067751510136\n",
            " and: 0.2886751323956809\n",
            " you: 0.24999999734834955\n",
            " hello: 0.24999999734834955\n"
          ]
        }
      ],
      "source": [
        "def preprocess(text):\n",
        "    \"\"\"\n",
        "        전처리 함수\n",
        "        text =  \"you say goodebye and I say hello \n",
        "        return corpus : id로만 이루어진 word 배열\n",
        "        word to id, id to word : 단어와 일련번호 사전\n",
        "    \"\"\"\n",
        "    # text = text.replace(\",\", \"\")\n",
        "    \n",
        "    text_split = text.split(\" \")\n",
        "    word_to_idx = {}\n",
        "    idx_to_word = {}\n",
        "    for t in text_split:\n",
        "        if t not in word_to_idx.keys():\n",
        "            word_idx = len(word_to_idx)\n",
        "            word_to_idx[t] = word_idx\n",
        "            idx_to_word[word_idx] = t\n",
        "\n",
        "    corpus = [word_to_idx[t] for t in text_split]\n",
        "    # corpus = text_split\n",
        "    return corpus, word_to_idx, idx_to_word\n",
        "\n",
        "\n",
        "def create_co_matrix(corpus,  window_size = 2):\n",
        " \n",
        "    \"\"\"윈도 사이즈 내에 있는 단어들을 동시 발생 행렬로 배열하는 함수\"\"\"\n",
        "    \n",
        "    corid, word_to_idx, idx_to_word = preprocess(corpus)\n",
        "    corpus = corpus.split(\" \")\n",
        "    co_matrix = np.zeros((len(corid), len(corid)))\n",
        "    for i, word in enumerate(corid):\n",
        "        for j in range(1, window_size+1):\n",
        "            right_idx = i+j\n",
        "            left_idx = i-j \n",
        "            if right_idx < len(corpus):\n",
        "                co_matrix[word, corid[right_idx]] += 1\n",
        "            if left_idx >= 0:\n",
        "                co_matrix[word, corid[left_idx]] += 1\n",
        "            \n",
        "    return co_matrix\n",
        "\n",
        "\n",
        "# t = preprocess(text)\n",
        "# m = create_co_matrix(text)\n",
        "\n",
        "def cos_similarity (x, y, eps = 1e-8):\n",
        "    \"\"\"x와 y간의 코사인 유사도 구하기\"\"\"\n",
        "    nx = x/(np.sqrt(np.sum(x**2))+eps)\n",
        "    ny = y/(np.sqrt(np.sum(y**2))+eps)\n",
        "    return np.dot(nx,ny)\n",
        "# print(t, m)\n",
        "\n",
        "\n",
        "\n",
        "def most_similarity(query, word_to_id, id_to_word, word_matrix, top = 5):\n",
        "    if query not in word_to_id:\n",
        "        return\n",
        "    else:\n",
        "        query_id = word_to_id[query]\n",
        "        query_vec = word_matrix[query_id]\n",
        "\n",
        "        vocab_size = len(id_to_word)\n",
        "        similarity = np.zeros(vocab_size)\n",
        "        for i  in range(vocab_size):\n",
        "            similarity[i] = cos_similarity(word_matrix[i], query_vec)\n",
        "\n",
        "        count = 0\n",
        "        for i in (-1 * similarity).argsort():\n",
        "            if id_to_word[i] == query:\n",
        "                continue\n",
        "            print( \" %s: %s\" %(id_to_word[i], similarity[i]))\n",
        "\n",
        "            count += 1\n",
        "            if count >= top:\n",
        "                return\n",
        "\n",
        "text = \"you say goodebye and I say hello\"\n",
        "corpus, word_to_id, id_to_word = preprocess(text)\n",
        "C = create_co_matrix(text)\n",
        "\n",
        "most_similarity(\"say\", word_to_id,id_to_word, C)\n"
      ]
    },
    {
      "cell_type": "code",
      "source": [
        "def ppmi(C, verbose = False, eps = 1e-8):\n",
        "    M = np.zeros_like(C, dtype = np.float32)\n",
        "    N = np.sum(C)\n",
        "    S = np.sum(C, axis = 0)\n",
        "    total = C.shape[0] * C.shape[1]\n",
        "    cnt = 0\n",
        "\n",
        "    for i in range(C.shape[0]):\n",
        "        for j in range(C.shape[1]):\n",
        "            pmi = np.log2(C[i, j] * N / S[i]*S[j] + eps)\n",
        "            M[i,j] = max(0, pmi)\n",
        "\n",
        "            if verbose:\n",
        "                cnt += 1\n",
        "                if cnt %(total//100+1) == 0:\n",
        "                    print(\"%.1f%% 완료\" % (100*cnt/total))\n",
        "    return M"
      ],
      "metadata": {
        "id": "cu964lt8tTy2"
      },
      "execution_count": 6,
      "outputs": []
    },
    {
      "cell_type": "code",
      "source": [
        "W = ppmi(C)"
      ],
      "metadata": {
        "colab": {
          "base_uri": "https://localhost:8080/"
        },
        "id": "UOOK6N1wvDOi",
        "outputId": "1fbb927c-c3ff-4202-8c1b-735102469c91"
      },
      "execution_count": 7,
      "outputs": [
        {
          "output_type": "stream",
          "name": "stderr",
          "text": [
            "/usr/local/lib/python3.7/dist-packages/ipykernel_launcher.py:10: RuntimeWarning: invalid value encountered in double_scalars\n",
            "  # Remove the CWD from sys.path while we load stuff.\n"
          ]
        }
      ]
    },
    {
      "cell_type": "code",
      "source": [
        "W"
      ],
      "metadata": {
        "colab": {
          "base_uri": "https://localhost:8080/"
        },
        "id": "5_pdA2pRvHXl",
        "outputId": "c6d9693e-bfa0-41fb-8081-643417e149f3"
      },
      "execution_count": 8,
      "outputs": [
        {
          "output_type": "execute_result",
          "data": {
            "text/plain": [
              "array([[0.       , 6.044394 , 5.4594316, 0.       , 0.       , 0.       ,\n",
              "        0.       ],\n",
              "       [2.874469 , 0.       , 3.874469 , 4.8744693, 3.874469 , 2.874469 ,\n",
              "        0.       ],\n",
              "       [3.4594316, 5.044394 , 0.       , 4.4594316, 4.4594316, 0.       ,\n",
              "        0.       ],\n",
              "       [0.       , 6.044394 , 4.4594316, 0.       , 4.4594316, 0.       ,\n",
              "        0.       ],\n",
              "       [0.       , 5.044394 , 4.4594316, 4.4594316, 0.       , 3.4594316,\n",
              "        0.       ],\n",
              "       [0.       , 6.044394 , 0.       , 0.       , 5.4594316, 0.       ,\n",
              "        0.       ],\n",
              "       [0.       , 0.       , 0.       , 0.       , 0.       , 0.       ,\n",
              "        0.       ]], dtype=float32)"
            ]
          },
          "metadata": {},
          "execution_count": 8
        }
      ]
    },
    {
      "cell_type": "code",
      "source": [
        "import sys\n",
        "sys.path.insert(0, \"/content/deep-learning-from-scratch-2\" )\n",
        "import numpy as np\n",
        "import matplotlib.pyplot as plt\n",
        "from common.util import preprocess, create_co_matrix, ppmi\n",
        "\n"
      ],
      "metadata": {
        "id": "YMunyDsVvf3n"
      },
      "execution_count": 9,
      "outputs": []
    },
    {
      "cell_type": "code",
      "source": [
        "U, S, V = np.linalg.svd(W)"
      ],
      "metadata": {
        "id": "1ojFxWre1gsk"
      },
      "execution_count": 10,
      "outputs": []
    },
    {
      "cell_type": "code",
      "source": [
        "V.shape\n"
      ],
      "metadata": {
        "colab": {
          "base_uri": "https://localhost:8080/"
        },
        "id": "1DAhJe1M1oH3",
        "outputId": "7be33b9f-62d7-478d-c525-21731a5e3d09"
      },
      "execution_count": 11,
      "outputs": [
        {
          "output_type": "execute_result",
          "data": {
            "text/plain": [
              "(7, 7)"
            ]
          },
          "metadata": {},
          "execution_count": 11
        }
      ]
    },
    {
      "cell_type": "code",
      "source": [
        "text = \"you say goodebye and I say hello\"\n",
        "corpus, word_to_id, id_to_word = preprocess(text)\n",
        "vocab_size = len(id_to_word)\n",
        "C = create_co_matrix(corpus, vocab_size, window_size =1)\n",
        "W = ppmi(W)\n",
        "U, S, V = np.linalg.svd(W)"
      ],
      "metadata": {
        "colab": {
          "base_uri": "https://localhost:8080/"
        },
        "id": "8naAObgc1qc2",
        "outputId": "2023d46e-9f59-467b-f17d-be9a65f8219a"
      },
      "execution_count": 12,
      "outputs": [
        {
          "output_type": "stream",
          "name": "stderr",
          "text": [
            "/content/deep-learning-from-scratch-2/common/util.py:141: RuntimeWarning: invalid value encountered in float_scalars\n",
            "  pmi = np.log2(C[i, j] * N / (S[j]*S[i]) + eps)\n"
          ]
        }
      ]
    },
    {
      "cell_type": "code",
      "source": [
        "!pip install pprint"
      ],
      "metadata": {
        "colab": {
          "base_uri": "https://localhost:8080/"
        },
        "id": "CTV8DLOt2kWX",
        "outputId": "d631baee-1737-4b22-934a-d972b05a29ae"
      },
      "execution_count": 13,
      "outputs": [
        {
          "output_type": "stream",
          "name": "stdout",
          "text": [
            "\u001b[31mERROR: Could not find a version that satisfies the requirement pprint (from versions: none)\u001b[0m\n",
            "\u001b[31mERROR: No matching distribution found for pprint\u001b[0m\n"
          ]
        }
      ]
    },
    {
      "cell_type": "code",
      "source": [
        "print(C[0], W[0], U[0])"
      ],
      "metadata": {
        "colab": {
          "base_uri": "https://localhost:8080/"
        },
        "id": "Y6OFN2M-2dNZ",
        "outputId": "6e574692-c36e-46dd-86c4-a74fb19f8102"
      },
      "execution_count": 14,
      "outputs": [
        {
          "output_type": "stream",
          "name": "stdout",
          "text": [
            "[0 1 0 0 0 0] [0.        1.6245388 2.1063955 0.        0.        0.        0.       ] [-0.6676697  -0.68576676 -0.06119522 -0.17240636  0.21300137  0.07143316\n",
            "  0.        ]\n"
          ]
        }
      ]
    },
    {
      "cell_type": "code",
      "source": [
        ""
      ],
      "metadata": {
        "id": "CKat-UBz3652"
      },
      "execution_count": 14,
      "outputs": []
    },
    {
      "cell_type": "code",
      "source": [
        "U[2,0]"
      ],
      "metadata": {
        "colab": {
          "base_uri": "https://localhost:8080/"
        },
        "id": "UIHB80E04TTE",
        "outputId": "79a136ca-35e1-44cf-934a-dc73a9a9405d"
      },
      "execution_count": 15,
      "outputs": [
        {
          "output_type": "execute_result",
          "data": {
            "text/plain": [
              "-0.061972603"
            ]
          },
          "metadata": {},
          "execution_count": 15
        }
      ]
    },
    {
      "cell_type": "code",
      "source": [
        ""
      ],
      "metadata": {
        "id": "DWj0LkYW4xYI"
      },
      "execution_count": 15,
      "outputs": []
    },
    {
      "cell_type": "code",
      "source": [
        "from matplotlib import rc\n",
        "%matplotlib inline\n",
        "rc('font', family='AppleGothic')\n",
        "\n",
        "plt.rcParams['axes.unicode_minus'] = False"
      ],
      "metadata": {
        "id": "_WQC4VNY4tAB"
      },
      "execution_count": 16,
      "outputs": []
    },
    {
      "cell_type": "code",
      "source": [
        "\n",
        "\n",
        "\n",
        "\n",
        "for word, word_id in word_to_id.items():\n",
        "    try:\n",
        "        plt.annotate(word, (U[word_id, 0], U[word_id, 1]))\n",
        "    except:\n",
        "        pass\n",
        "plt.scatter(U[:, 0], U[:, 1], alpha=0.5)\n",
        "plt.show()"
      ],
      "metadata": {
        "colab": {
          "base_uri": "https://localhost:8080/",
          "height": 282
        },
        "id": "PMfzaK6n2usT",
        "outputId": "804e2284-b74c-471a-e9b5-963f7afe7aa4"
      },
      "execution_count": 17,
      "outputs": [
        {
          "output_type": "stream",
          "name": "stderr",
          "text": [
            "findfont: Font family ['AppleGothic'] not found. Falling back to DejaVu Sans.\n"
          ]
        },
        {
          "output_type": "display_data",
          "data": {
            "image/png": "[encoded data removed]",
            "text/plain": [
              "<Figure size 432x288 with 1 Axes>"
            ]
          },
          "metadata": {
            "needs_background": "light"
          }
        }
      ]
    },
    {
      "cell_type": "code",
      "source": [
        ""
      ],
      "metadata": {
        "id": "83ZHRosC3G2Y"
      },
      "execution_count": 17,
      "outputs": []
    }
  ]
}